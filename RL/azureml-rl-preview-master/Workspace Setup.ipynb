{
 "cells": [
  {
   "cell_type": "markdown",
   "metadata": {},
   "source": [
    "# Azure ML Reinforcement Learning Sample\n",
    "\n",
    "This notebook saves Azure ML workspace for use in the other notebooks."
   ]
  },
  {
   "cell_type": "markdown",
   "metadata": {},
   "source": [
    "### Import libraries"
   ]
  },
  {
   "cell_type": "code",
   "execution_count": null,
   "metadata": {},
   "outputs": [],
   "source": [
    "# Azure ML Core imports\n",
    "import azureml.core\n",
    "from azureml.core import Workspace\n",
    "\n",
    "# check core SDK version number\n",
    "print(\"Azure ML SDK Version: \", azureml.core.VERSION)"
   ]
  },
  {
   "cell_type": "markdown",
   "metadata": {},
   "source": [
    "### Define Azure ML Subscription and Resource Group details\n",
    "\n",
    "Define the Azure ML subscription, resource group, region you are using.  Currently, the following regions are suppored: `eastus`, `westeurope`, and `westus2`"
   ]
  },
  {
   "cell_type": "code",
   "execution_count": null,
   "metadata": {},
   "outputs": [],
   "source": [
    "# The Azure subscription you are using\n",
    "subscription_id='your_subscription_id'\n",
    "# The resource group for the RL cluster\n",
    "resource_group='your_resource_group'\n",
    "# Azure region of the resource group\n",
    "location='your_region'"
   ]
  },
  {
   "cell_type": "markdown",
   "metadata": {},
   "source": [
    "### Create Azure ML Worksapce\n",
    "\n",
    "Create or retrieve the workspace you will use for your RL experiment."
   ]
  },
  {
   "cell_type": "code",
   "execution_count": null,
   "metadata": {},
   "outputs": [],
   "source": [
    "# Name of your workspace\n",
    "workspace_name='your_workspace'\n",
    "\n",
    "ws = Workspace.create(name=workspace_name,\n",
    "                      subscription_id=subscription_id,\n",
    "                      resource_group=resource_group,\n",
    "                      location=location,\n",
    "                      exist_ok=True)\n",
    "\n",
    "# Save workspace to local default config\n",
    "ws.write_config()\n",
    "\n",
    "# Get the workspace details\n",
    "ws.get_details()"
   ]
  },
  {
   "cell_type": "markdown",
   "metadata": {},
   "source": [
    "### Create Virtual Network\n",
    "\n",
    "If you are using separate compute targets for the Ray head and worker, a virtual network must be created in the resource group.  If you have alraeady created a virtual network in the resource group, you can skip this step.\n",
    "\n",
    "To do this, you first must install the Azure Networking API.\n",
    "\n",
    "`pip install --upgrade azure-mgmt-network`"
   ]
  },
  {
   "cell_type": "code",
   "execution_count": null,
   "metadata": {},
   "outputs": [],
   "source": [
    "# If you need to install the Azure Networking SDK, uncomment the following line.\n",
    "#!pip install --upgrade azure-mgmt-network"
   ]
  },
  {
   "cell_type": "code",
   "execution_count": null,
   "metadata": {},
   "outputs": [],
   "source": [
    "from azure.mgmt.network import NetworkManagementClient\n",
    "vnet_name =\"your_vnet\"\n",
    "subnet_name =\"default\"\n",
    "network_client = NetworkManagementClient(ws._auth_object, subscription_id)\n",
    "\n",
    "async_vnet_creation = network_client.virtual_networks.create_or_update(\n",
    "    resource_group,\n",
    "    vnet_name,\n",
    "    {\n",
    "        'location': location,\n",
    "        'address_space': {\n",
    "            'address_prefixes': ['10.0.0.0/16']\n",
    "        }\n",
    "    }\n",
    ")\n",
    "async_vnet_creation.wait()\n",
    "\n",
    "# Create Subnet\n",
    "async_subnet_creation = network_client.subnets.create_or_update(\n",
    "    resource_group,\n",
    "    vnet_name,\n",
    "    subnet_name,\n",
    "    {'address_prefix': '10.0.0.0/24'}\n",
    ")\n",
    "async_subnet_creation.wait()"
   ]
  },
  {
   "cell_type": "code",
   "execution_count": null,
   "metadata": {},
   "outputs": [],
   "source": []
  }
 ],
 "metadata": {
  "kernelspec": {
   "display_name": "Python 3",
   "language": "python",
   "name": "python3"
  },
  "language_info": {
   "codemirror_mode": {
    "name": "ipython",
    "version": 3
   },
   "file_extension": ".py",
   "mimetype": "text/x-python",
   "name": "python",
   "nbconvert_exporter": "python",
   "pygments_lexer": "ipython3",
   "version": "3.7.4"
  }
 },
 "nbformat": 4,
 "nbformat_minor": 2
}
